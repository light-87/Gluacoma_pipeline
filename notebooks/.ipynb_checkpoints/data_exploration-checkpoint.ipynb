{
 "cells": [
  {
   "cell_type": "code",
   "execution_count": 1,
   "id": "6f272ee8-9b9b-498a-a7d9-7a3622fdb834",
   "metadata": {},
   "outputs": [],
   "source": [
    "# Import necessary libraries\n",
    "import os\n",
    "import sys\n",
    "import pandas as pd\n",
    "import numpy as np\n",
    "import matplotlib.pyplot as plt\n",
    "import seaborn as sns\n",
    "from pathlib import Path\n",
    "\n",
    "# Add repository root to path for imports\n",
    "sys.path.append('..')\n",
    "\n",
    "# Set display options\n",
    "pd.set_option('display.max_columns', None)\n",
    "plt.style.use('seaborn-v0_8-whitegrid')"
   ]
  },
  {
   "cell_type": "code",
   "execution_count": 3,
   "id": "3d8d523f-17f8-4ac8-bb04-7e135f4c5cb1",
   "metadata": {},
   "outputs": [],
   "source": [
    "# Import our data loading modules\n",
    "from glaucoma.config import Config\n",
    "from glaucoma.data.loader import DatasetLoader, save_dataset\n",
    "from glaucoma.data.dataset import SquareImageDataset\n",
    "from glaucoma.utils.logging import setup_logger\n",
    "\n",
    "# Set up logging\n",
    "logger = setup_logger('notebook', level='info')"
   ]
  },
  {
   "cell_type": "code",
   "execution_count": 5,
   "id": "3d31c982-76f1-4476-90d2-abd2f72cef22",
   "metadata": {},
   "outputs": [
    {
     "name": "stdout",
     "output_type": "stream",
     "text": [
      "Data directories:\n",
      "  REFUGE:\n",
      "    images: ../data/REFUGE/Images_Square ❌\n",
      "    masks: ../data/REFUGE/Masks_Square ❌\n",
      "  ORIGA:\n",
      "    images: ../data/ORIGA/Images_Square ❌\n",
      "    masks: ../data/ORIGA/Masks_Square ❌\n",
      "  G1020:\n",
      "    images: ../data/G1020/Images_Square ❌\n",
      "    masks: ../data/G1020/Masks_Square ❌\n"
     ]
    }
   ],
   "source": [
    "# Create configuration (modify paths as needed)\n",
    "config = Config()\n",
    "\n",
    "# Update data directories to point to your data location\n",
    "config.data.data_dirs = {\n",
    "    'REFUGE': {\n",
    "        'images': '../data/REFUGE/Images_Square',\n",
    "        'masks': '../data/REFUGE/Masks_Square'\n",
    "    },\n",
    "    'ORIGA': {\n",
    "        'images': '../data/ORIGA/Images_Square',\n",
    "        'masks': '../data/ORIGA/Masks_Square'\n",
    "    },\n",
    "    'G1020': {\n",
    "        'images': '../data/G1020/Images_Square',\n",
    "        'masks': '../data/G1020/Masks_Square'\n",
    "    }\n",
    "}\n",
    "\n",
    "# Print the configuration\n",
    "print(\"Data directories:\")\n",
    "for dataset, paths in config.data.data_dirs.items():\n",
    "    print(f\"  {dataset}:\")\n",
    "    for key, path in paths.items():\n",
    "        exists = Path(path).exists()\n",
    "        status = \"✅\" if exists else \"❌\"\n",
    "        print(f\"    {key}: {path} {status}\")"
   ]
  },
  {
   "cell_type": "code",
   "execution_count": null,
   "id": "555c0af2-07fe-4de3-bf32-7f201fdfab42",
   "metadata": {},
   "outputs": [],
   "source": []
  }
 ],
 "metadata": {
  "kernelspec": {
   "display_name": "Python [conda env:cuda_env]",
   "language": "python",
   "name": "conda-env-cuda_env-py"
  },
  "language_info": {
   "codemirror_mode": {
    "name": "ipython",
    "version": 3
   },
   "file_extension": ".py",
   "mimetype": "text/x-python",
   "name": "python",
   "nbconvert_exporter": "python",
   "pygments_lexer": "ipython3",
   "version": "3.9.21"
  }
 },
 "nbformat": 4,
 "nbformat_minor": 5
}
